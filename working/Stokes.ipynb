{
 "cells": [
  {
   "cell_type": "markdown",
   "metadata": {},
   "source": [
    "### Challenge Stokes"
   ]
  },
  {
   "cell_type": "markdown",
   "metadata": {},
   "source": [
    "##### Import Libraries"
   ]
  },
  {
   "cell_type": "code",
   "execution_count": 1,
   "metadata": {
    "collapsed": true
   },
   "outputs": [],
   "source": [
    "from mpl_toolkits.mplot3d import Axes3D\n",
    "from matplotlib import pyplot, cm\n",
    "from math import pi\n",
    "import numpy\n",
    "%matplotlib inline\n",
    "from matplotlib import rcParams\n",
    "rcParams['font.family'] = 'serif'\n",
    "rcParams['font.size'] = 16"
   ]
  },
  {
   "cell_type": "markdown",
   "metadata": {},
   "source": [
    "#### Parametres"
   ]
  },
  {
   "cell_type": "code",
   "execution_count": 2,
   "metadata": {
    "collapsed": false
   },
   "outputs": [],
   "source": [
    "xmin = 0.\n",
    "ymin = 0.\n",
    "\n",
    "l = 1.\n",
    "h = 1.\n",
    "u = 1.\n",
    "\n",
    "nx = 41\n",
    "ny = 41\n",
    "\n",
    "# Return evenly spaced numbers over a specified interval\n",
    "x=numpy.linspace(xmin,l,nx)\n",
    "y=numpy.linspace(ymin,h,ny)\n",
    "X,Y = numpy.meshgrid(x,y)    # Grille\n",
    "\n",
    "\n",
    "# Spacing\n",
    "\n",
    "dx = l/(nx-1)\n",
    "dy = h/(ny-1)\n",
    "\n",
    "l1_target = 1e-6\n",
    "\n",
    "# Initial conditions (Initial guess)\n",
    "p = numpy.zeros((ny,nx)) #create a XxY vector of 0's\n",
    "w = numpy.zeros((ny,nx))"
   ]
  },
  {
   "cell_type": "code",
   "execution_count": 3,
   "metadata": {
    "collapsed": true
   },
   "outputs": [],
   "source": [
    "def L1norm(new, old):\n",
    "    norm = numpy.sum(numpy.abs(new-old))\n",
    "    return norm"
   ]
  },
  {
   "cell_type": "markdown",
   "metadata": {},
   "source": [
    "##### Iterations Poisson"
   ]
  },
  {
   "cell_type": "code",
   "execution_count": 4,
   "metadata": {
    "collapsed": false
   },
   "outputs": [],
   "source": [
    "def poisson_2d(p, w, dx, dy, l1_target):\n",
    "    '''Performs Jacobi relaxation\n",
    "    \n",
    "    Parameters:\n",
    "    ----------\n",
    "    p : 2D array of floats\n",
    "        Initial guess\n",
    "    b : 2D array of floats\n",
    "        Source term\n",
    "    dx: float\n",
    "        Mesh spacing in x direction\n",
    "    dy: float\n",
    "        Mesh spacing in y direction\n",
    "    l1_target: float\n",
    "        Target difference between two consecutive iterates\n",
    "    \n",
    "    Returns:\n",
    "    -------\n",
    "    p: 2D array of float\n",
    "        Distribution after relaxation\n",
    "    '''\n",
    "\n",
    "    norm1=1   #Normes initiales pour lancer la boucle\n",
    "    norm2=1\n",
    "    iterations = 0\n",
    "   \n",
    "    \n",
    "    #numpy.empty_like(a, dtype=None, order='K', subok=True)\n",
    "    #Return a new array with the same shape and type as a given array.\n",
    "    \n",
    "    pd = numpy.empty_like(p)\n",
    "    wn = numpy.empty_like(w)\n",
    "    \n",
    "    # Initial guess for p\n",
    "    wn = numpy.empty_like(p)\n",
    "   \n",
    "    while  norm1> l1_target or norm2>l1_target :\n",
    "\n",
    "        pd = p.copy()                 # On place la valeur de p dans pd\n",
    "        wn = w.copy()                 # On place la valeur de w dans wn\n",
    "      \n",
    "        # Solutions itératives \n",
    "            \n",
    "        # Pour w\n",
    "        # On ne commence pas au bord de la grille mais juste après\n",
    "        w[1:-1,1:-1] = 0.25*(wn[:-2,1:-1]+wn[2:,1:-1]+wn[1:-1,:-2]+wn[1:-1,2:])\n",
    "            \n",
    "        # Pour p\n",
    "            \n",
    "        p[1:-1,1:-1] = 0.25*(pd[1:-1,2:]+pd[1:-1,0:-2]+pd[2:,1:-1]+pd[0:-2,1:-1]+w[1:-1,1:-1]*(dx)**2)\n",
    "        \n",
    "        # \"Garde fou\" si erreur dans le code\n",
    "        if iterations > 50000 :\n",
    "            break    \n",
    "                \n",
    "                # Boundary conditions for w\n",
    "\n",
    "            # Au-dessus\n",
    "        w[-1,:]=(-1/(2*(dx)**2))*(8*p[-2,:]-p[-3,:])-3*u/dx\n",
    "\n",
    "            # En-dessous\n",
    "        w[0,:]=(-1/(2*(dx)**2))*(8*p[1,:]-p[2,:])  #les termes précédents ici sont j+1 et j+2, non plus j-1 et j-2\n",
    "\n",
    "            # A gauche\n",
    "        w[:,0]=(-1/(2*(dx)**2))*(8*p[:,1]-p[:,2])  #les termes précédents ici sont i+1 et i+2\n",
    "\n",
    "            # A droite\n",
    "        w[:,-1]=(-1/(2*(dx)**2))*(8*p[:,-2]-p[:,-3])  \n",
    "\n",
    "    \n",
    "        \n",
    "        # BCs are automatically enforced\n",
    "        \n",
    "        norm1=L1norm(pd,p)\n",
    "        norm2=L1norm(wn,w)\n",
    "        iterations += 1\n",
    "    \n",
    "    print('Number of Jacobi iterations: {0:d}'.format(iterations))\n",
    "    return p   "
   ]
  },
  {
   "cell_type": "code",
   "execution_count": 5,
   "metadata": {
    "collapsed": false,
    "scrolled": true
   },
   "outputs": [
    {
     "name": "stdout",
     "output_type": "stream",
     "text": [
      "Number of Jacobi iterations: 50001\n",
      "[[  0.   0.   0. ...,   0.   0.   0.]\n",
      " [  0. -inf  inf ...,  inf -inf   0.]\n",
      " [  0.  inf -inf ..., -inf  inf   0.]\n",
      " ..., \n",
      " [  0.  inf -inf ..., -inf  inf   0.]\n",
      " [  0. -inf  inf ...,  inf -inf   0.]\n",
      " [  0.   0.   0. ...,   0.   0.   0.]]\n"
     ]
    },
    {
     "name": "stderr",
     "output_type": "stream",
     "text": [
      "/serveur/logiciels/anaconda3/lib/python3.4/site-packages/ipykernel/__main__.py:46: RuntimeWarning: overflow encountered in add\n"
     ]
    }
   ],
   "source": [
    "p = poisson_2d(p, w, dx, dy, l1_target)\n",
    "\n",
    "print(p)"
   ]
  },
  {
   "cell_type": "code",
   "execution_count": null,
   "metadata": {
    "collapsed": true
   },
   "outputs": [],
   "source": []
  }
 ],
 "metadata": {
  "kernelspec": {
   "display_name": "Python 3",
   "language": "python",
   "name": "python3"
  },
  "language_info": {
   "codemirror_mode": {
    "name": "ipython",
    "version": 3
   },
   "file_extension": ".py",
   "mimetype": "text/x-python",
   "name": "python",
   "nbconvert_exporter": "python",
   "pygments_lexer": "ipython3",
   "version": "3.4.3"
  }
 },
 "nbformat": 4,
 "nbformat_minor": 0
}
